{
 "cells": [
  {
   "cell_type": "markdown",
   "metadata": {},
   "source": [
    "Вы получили основные навыки обработки данных, теперь пора испытать их на практике. Сейчас вам предстоит заняться задачей классификации.\n",
    "\n",
    "Представлен датасет центра приюта животных, и вашей задачей будет обучить модель таким образом, чтобы  по определенным признакам была возможность максимально уверенно предсказать метки 'Adoption' и 'Transfer' (столбец “outcome_type”).\n",
    "\n",
    "Здесь вы вольны делать что угодно. Я хочу видеть от вас:\n",
    "1. Проверка наличия/обработка пропусков\n",
    "2. Проверьте взаимосвязи между признаками\n",
    "3. Попробуйте создать свои признаки\n",
    "4. Удалите лишние\n",
    "5. Обратите внимание на текстовые столбцы. Подумайте, что можно извлечь полезного оттуда\n",
    "6. Использование профайлера вам поможет.\n",
    "7. Не забывайте, что у вас есть PCA (Метод главных компонент). Он может пригодиться.\n",
    "\n",
    "Вспомните о всем, что я говорил на предыдущих занятиях. Не все будет пригодится, но в жизни вам никто не будет говорить, что использовать :)\n",
    "\n",
    "Хорошим классификатором для этой задачи будет \"Случайный лес\" (https://scikit-learn.org/stable/modules/generated/sklearn.ensemble.RandomForestClassifier.html)\n",
    "\n",
    "Понимать суть работы \"леса\" не обязательно на данном этапе, но качество предсказаний будет выше, чем с линейным классификатором. (если желаете, вот гайд https://adataanalyst.com/scikit-learn/linear-classification-method/)\n",
    "\n",
    "Желаю успеха :)"
   ]
  },
  {
   "cell_type": "code",
   "execution_count": 1,
   "metadata": {},
   "outputs": [],
   "source": [
    "import pandas as pd\n",
    "import matplotlib.pyplot as plt\n",
    "import seaborn as sns\n",
    "import pandas_profiling\n",
    "import numpy as np\n",
    "import datetime as dt\n",
    "\n",
    "%matplotlib inline"
   ]
  },
  {
   "cell_type": "code",
   "execution_count": 67,
   "metadata": {},
   "outputs": [
    {
     "data": {
      "text/html": [
       "<div>\n",
       "<style scoped>\n",
       "    .dataframe tbody tr th:only-of-type {\n",
       "        vertical-align: middle;\n",
       "    }\n",
       "\n",
       "    .dataframe tbody tr th {\n",
       "        vertical-align: top;\n",
       "    }\n",
       "\n",
       "    .dataframe thead th {\n",
       "        text-align: right;\n",
       "    }\n",
       "</style>\n",
       "<table border=\"1\" class=\"dataframe\">\n",
       "  <thead>\n",
       "    <tr style=\"text-align: right;\">\n",
       "      <th></th>\n",
       "      <th>age_upon_outcome</th>\n",
       "      <th>animal_id</th>\n",
       "      <th>animal_type</th>\n",
       "      <th>breed</th>\n",
       "      <th>color</th>\n",
       "      <th>date_of_birth</th>\n",
       "      <th>datetime</th>\n",
       "      <th>monthyear</th>\n",
       "      <th>name</th>\n",
       "      <th>outcome_subtype</th>\n",
       "      <th>outcome_type</th>\n",
       "      <th>sex_upon_outcome</th>\n",
       "    </tr>\n",
       "  </thead>\n",
       "  <tbody>\n",
       "    <tr>\n",
       "      <th>0</th>\n",
       "      <td>2 weeks</td>\n",
       "      <td>A684346</td>\n",
       "      <td>Cat</td>\n",
       "      <td>Domestic Shorthair Mix</td>\n",
       "      <td>Orange Tabby</td>\n",
       "      <td>2014-07-07T00:00:00</td>\n",
       "      <td>2014-07-22T16:04:00</td>\n",
       "      <td>2014-07-22T16:04:00</td>\n",
       "      <td>NaN</td>\n",
       "      <td>Partner</td>\n",
       "      <td>Transfer</td>\n",
       "      <td>Intact Male</td>\n",
       "    </tr>\n",
       "    <tr>\n",
       "      <th>1</th>\n",
       "      <td>1 year</td>\n",
       "      <td>A666430</td>\n",
       "      <td>Dog</td>\n",
       "      <td>Beagle Mix</td>\n",
       "      <td>White/Brown</td>\n",
       "      <td>2012-11-06T00:00:00</td>\n",
       "      <td>2013-11-07T11:47:00</td>\n",
       "      <td>2013-11-07T11:47:00</td>\n",
       "      <td>Lucy</td>\n",
       "      <td>Partner</td>\n",
       "      <td>Transfer</td>\n",
       "      <td>Spayed Female</td>\n",
       "    </tr>\n",
       "    <tr>\n",
       "      <th>2</th>\n",
       "      <td>1 year</td>\n",
       "      <td>A675708</td>\n",
       "      <td>Dog</td>\n",
       "      <td>Pit Bull</td>\n",
       "      <td>Blue/White</td>\n",
       "      <td>2013-03-31T00:00:00</td>\n",
       "      <td>2014-06-03T14:20:00</td>\n",
       "      <td>2014-06-03T14:20:00</td>\n",
       "      <td>*Johnny</td>\n",
       "      <td>NaN</td>\n",
       "      <td>Adoption</td>\n",
       "      <td>Neutered Male</td>\n",
       "    </tr>\n",
       "    <tr>\n",
       "      <th>3</th>\n",
       "      <td>9 years</td>\n",
       "      <td>A680386</td>\n",
       "      <td>Dog</td>\n",
       "      <td>Miniature Schnauzer Mix</td>\n",
       "      <td>White</td>\n",
       "      <td>2005-06-02T00:00:00</td>\n",
       "      <td>2014-06-15T15:50:00</td>\n",
       "      <td>2014-06-15T15:50:00</td>\n",
       "      <td>Monday</td>\n",
       "      <td>Partner</td>\n",
       "      <td>Transfer</td>\n",
       "      <td>Neutered Male</td>\n",
       "    </tr>\n",
       "    <tr>\n",
       "      <th>4</th>\n",
       "      <td>5 months</td>\n",
       "      <td>A683115</td>\n",
       "      <td>Other</td>\n",
       "      <td>Bat Mix</td>\n",
       "      <td>Brown</td>\n",
       "      <td>2014-01-07T00:00:00</td>\n",
       "      <td>2014-07-07T14:04:00</td>\n",
       "      <td>2014-07-07T14:04:00</td>\n",
       "      <td>NaN</td>\n",
       "      <td>Rabies Risk</td>\n",
       "      <td>Euthanasia</td>\n",
       "      <td>Unknown</td>\n",
       "    </tr>\n",
       "  </tbody>\n",
       "</table>\n",
       "</div>"
      ],
      "text/plain": [
       "  age_upon_outcome animal_id animal_type                    breed  \\\n",
       "0          2 weeks   A684346         Cat   Domestic Shorthair Mix   \n",
       "1           1 year   A666430         Dog               Beagle Mix   \n",
       "2           1 year   A675708         Dog                 Pit Bull   \n",
       "3          9 years   A680386         Dog  Miniature Schnauzer Mix   \n",
       "4         5 months   A683115       Other                  Bat Mix   \n",
       "\n",
       "          color        date_of_birth             datetime  \\\n",
       "0  Orange Tabby  2014-07-07T00:00:00  2014-07-22T16:04:00   \n",
       "1   White/Brown  2012-11-06T00:00:00  2013-11-07T11:47:00   \n",
       "2    Blue/White  2013-03-31T00:00:00  2014-06-03T14:20:00   \n",
       "3         White  2005-06-02T00:00:00  2014-06-15T15:50:00   \n",
       "4         Brown  2014-01-07T00:00:00  2014-07-07T14:04:00   \n",
       "\n",
       "             monthyear     name outcome_subtype outcome_type sex_upon_outcome  \n",
       "0  2014-07-22T16:04:00      NaN         Partner     Transfer      Intact Male  \n",
       "1  2013-11-07T11:47:00     Lucy         Partner     Transfer    Spayed Female  \n",
       "2  2014-06-03T14:20:00  *Johnny             NaN     Adoption    Neutered Male  \n",
       "3  2014-06-15T15:50:00   Monday         Partner     Transfer    Neutered Male  \n",
       "4  2014-07-07T14:04:00      NaN     Rabies Risk   Euthanasia          Unknown  "
      ]
     },
     "execution_count": 67,
     "metadata": {},
     "output_type": "execute_result"
    }
   ],
   "source": [
    "dataset = pd.read_csv('data/aac_shelter_outcomes.csv')\n",
    "dataset.head()"
   ]
  },
  {
   "cell_type": "code",
   "execution_count": 68,
   "metadata": {
    "scrolled": true
   },
   "outputs": [
    {
     "name": "stdout",
     "output_type": "stream",
     "text": [
      "<class 'pandas.core.frame.DataFrame'>\n",
      "RangeIndex: 78256 entries, 0 to 78255\n",
      "Data columns (total 12 columns):\n",
      " #   Column            Non-Null Count  Dtype \n",
      "---  ------            --------------  ----- \n",
      " 0   age_upon_outcome  78248 non-null  object\n",
      " 1   animal_id         78256 non-null  object\n",
      " 2   animal_type       78256 non-null  object\n",
      " 3   breed             78256 non-null  object\n",
      " 4   color             78256 non-null  object\n",
      " 5   date_of_birth     78256 non-null  object\n",
      " 6   datetime          78256 non-null  object\n",
      " 7   monthyear         78256 non-null  object\n",
      " 8   name              54370 non-null  object\n",
      " 9   outcome_subtype   35963 non-null  object\n",
      " 10  outcome_type      78244 non-null  object\n",
      " 11  sex_upon_outcome  78254 non-null  object\n",
      "dtypes: object(12)\n",
      "memory usage: 3.6+ MB\n"
     ]
    }
   ],
   "source": [
    "dataset.info()"
   ]
  },
  {
   "cell_type": "markdown",
   "metadata": {},
   "source": [
    "Всего в датасете 78256 записей. Предположительно наблюдей достаточно для построения модели. \n",
    "\n",
    "Есть пропущенные значения в полях: age_upon_outcome, name, outcome_subtype, outcome_type, outcome_type, sex_upon_outcome. Наибольшее количество пропусков в name и outcome_subtype.\n",
    "\n",
    "На текущий момент все признаки являются категориальными с типом object. Требуетя работа с признаками по отдельности и преобразование. "
   ]
  },
  {
   "cell_type": "code",
   "execution_count": 69,
   "metadata": {
    "scrolled": true
   },
   "outputs": [
    {
     "data": {
      "text/html": [
       "<div>\n",
       "<style scoped>\n",
       "    .dataframe tbody tr th:only-of-type {\n",
       "        vertical-align: middle;\n",
       "    }\n",
       "\n",
       "    .dataframe tbody tr th {\n",
       "        vertical-align: top;\n",
       "    }\n",
       "\n",
       "    .dataframe thead th {\n",
       "        text-align: right;\n",
       "    }\n",
       "</style>\n",
       "<table border=\"1\" class=\"dataframe\">\n",
       "  <thead>\n",
       "    <tr style=\"text-align: right;\">\n",
       "      <th></th>\n",
       "      <th>age_upon_outcome</th>\n",
       "      <th>animal_id</th>\n",
       "      <th>animal_type</th>\n",
       "      <th>breed</th>\n",
       "      <th>color</th>\n",
       "      <th>date_of_birth</th>\n",
       "      <th>datetime</th>\n",
       "      <th>monthyear</th>\n",
       "      <th>name</th>\n",
       "      <th>outcome_subtype</th>\n",
       "      <th>outcome_type</th>\n",
       "      <th>sex_upon_outcome</th>\n",
       "    </tr>\n",
       "  </thead>\n",
       "  <tbody>\n",
       "    <tr>\n",
       "      <th>count</th>\n",
       "      <td>78248</td>\n",
       "      <td>78256</td>\n",
       "      <td>78256</td>\n",
       "      <td>78256</td>\n",
       "      <td>78256</td>\n",
       "      <td>78256</td>\n",
       "      <td>78256</td>\n",
       "      <td>78256</td>\n",
       "      <td>54370</td>\n",
       "      <td>35963</td>\n",
       "      <td>78244</td>\n",
       "      <td>78254</td>\n",
       "    </tr>\n",
       "    <tr>\n",
       "      <th>unique</th>\n",
       "      <td>46</td>\n",
       "      <td>70855</td>\n",
       "      <td>5</td>\n",
       "      <td>2128</td>\n",
       "      <td>525</td>\n",
       "      <td>5869</td>\n",
       "      <td>64361</td>\n",
       "      <td>64361</td>\n",
       "      <td>14574</td>\n",
       "      <td>19</td>\n",
       "      <td>9</td>\n",
       "      <td>5</td>\n",
       "    </tr>\n",
       "    <tr>\n",
       "      <th>top</th>\n",
       "      <td>1 year</td>\n",
       "      <td>A718223</td>\n",
       "      <td>Dog</td>\n",
       "      <td>Domestic Shorthair Mix</td>\n",
       "      <td>Black/White</td>\n",
       "      <td>2014-05-05T00:00:00</td>\n",
       "      <td>2016-04-18T00:00:00</td>\n",
       "      <td>2016-04-18T00:00:00</td>\n",
       "      <td>Bella</td>\n",
       "      <td>Partner</td>\n",
       "      <td>Adoption</td>\n",
       "      <td>Neutered Male</td>\n",
       "    </tr>\n",
       "    <tr>\n",
       "      <th>freq</th>\n",
       "      <td>14355</td>\n",
       "      <td>11</td>\n",
       "      <td>44242</td>\n",
       "      <td>23335</td>\n",
       "      <td>8153</td>\n",
       "      <td>112</td>\n",
       "      <td>39</td>\n",
       "      <td>39</td>\n",
       "      <td>344</td>\n",
       "      <td>19660</td>\n",
       "      <td>33112</td>\n",
       "      <td>27784</td>\n",
       "    </tr>\n",
       "  </tbody>\n",
       "</table>\n",
       "</div>"
      ],
      "text/plain": [
       "       age_upon_outcome animal_id animal_type                   breed  \\\n",
       "count             78248     78256       78256                   78256   \n",
       "unique               46     70855           5                    2128   \n",
       "top              1 year   A718223         Dog  Domestic Shorthair Mix   \n",
       "freq              14355        11       44242                   23335   \n",
       "\n",
       "              color        date_of_birth             datetime  \\\n",
       "count         78256                78256                78256   \n",
       "unique          525                 5869                64361   \n",
       "top     Black/White  2014-05-05T00:00:00  2016-04-18T00:00:00   \n",
       "freq           8153                  112                   39   \n",
       "\n",
       "                  monthyear   name outcome_subtype outcome_type  \\\n",
       "count                 78256  54370           35963        78244   \n",
       "unique                64361  14574              19            9   \n",
       "top     2016-04-18T00:00:00  Bella         Partner     Adoption   \n",
       "freq                     39    344           19660        33112   \n",
       "\n",
       "       sex_upon_outcome  \n",
       "count             78254  \n",
       "unique                5  \n",
       "top       Neutered Male  \n",
       "freq              27784  "
      ]
     },
     "execution_count": 69,
     "metadata": {},
     "output_type": "execute_result"
    }
   ],
   "source": [
    "dataset.describe()"
   ]
  },
  {
   "cell_type": "markdown",
   "metadata": {},
   "source": [
    "Посмотрим каждый столбец и попробуем преобразовать признаки."
   ]
  },
  {
   "cell_type": "markdown",
   "metadata": {},
   "source": [
    "### animal_id"
   ]
  },
  {
   "cell_type": "code",
   "execution_count": 70,
   "metadata": {},
   "outputs": [
    {
     "data": {
      "text/plain": [
       "A718223    11\n",
       "A706536    11\n",
       "A721033    10\n",
       "A694501     8\n",
       "A616444     8\n",
       "           ..\n",
       "A735327     1\n",
       "A752401     1\n",
       "A760342     1\n",
       "A739547     1\n",
       "A693321     1\n",
       "Name: animal_id, Length: 70855, dtype: int64"
      ]
     },
     "execution_count": 70,
     "metadata": {},
     "output_type": "execute_result"
    }
   ],
   "source": [
    "dataset.animal_id.value_counts()"
   ]
  },
  {
   "cell_type": "markdown",
   "metadata": {},
   "source": [
    "AnimalID представляет уникальный индентификатор животного и, очевидно, не влияет на вероятный исход. \n",
    "\n",
    "Удалим этот признак. "
   ]
  },
  {
   "cell_type": "code",
   "execution_count": 71,
   "metadata": {},
   "outputs": [],
   "source": [
    "dataset = dataset.drop('animal_id', axis=1)"
   ]
  },
  {
   "cell_type": "markdown",
   "metadata": {},
   "source": [
    "### Визуально складывается ощущение, что столбцы datetime и monthyear имеют одинаковое значение. Проверим эту гипотезу."
   ]
  },
  {
   "cell_type": "code",
   "execution_count": 72,
   "metadata": {},
   "outputs": [],
   "source": [
    "dataset['datasetates_check'] = dataset.datetime == dataset.monthyear"
   ]
  },
  {
   "cell_type": "code",
   "execution_count": 73,
   "metadata": {},
   "outputs": [
    {
     "data": {
      "text/plain": [
       "True    78256\n",
       "Name: datasetates_check, dtype: int64"
      ]
     },
     "execution_count": 73,
     "metadata": {},
     "output_type": "execute_result"
    }
   ],
   "source": [
    "dataset.datasetates_check.value_counts()"
   ]
  },
  {
   "cell_type": "markdown",
   "metadata": {},
   "source": [
    "Признаки абсолютно идентичны, удалим признак monthyear, а также технический признак datasetates_check."
   ]
  },
  {
   "cell_type": "code",
   "execution_count": 74,
   "metadata": {},
   "outputs": [],
   "source": [
    "dataset = dataset.drop(['monthyear','datasetates_check'], axis=1)"
   ]
  },
  {
   "cell_type": "markdown",
   "metadata": {},
   "source": [
    "### age_upon_outcome"
   ]
  },
  {
   "cell_type": "code",
   "execution_count": 75,
   "metadata": {
    "scrolled": true
   },
   "outputs": [
    {
     "data": {
      "text/plain": [
       "1 year       14355\n",
       "2 years      11194\n",
       "2 months      9213\n",
       "3 years       5157\n",
       "3 months      3442\n",
       "1 month       3344\n",
       "4 years       2990\n",
       "5 years       2691\n",
       "4 months      2425\n",
       "5 months      1951\n",
       "6 months      1897\n",
       "6 years       1810\n",
       "8 years       1554\n",
       "7 years       1537\n",
       "3 weeks       1467\n",
       "2 weeks       1330\n",
       "10 months     1204\n",
       "4 weeks       1194\n",
       "8 months      1178\n",
       "10 years      1159\n",
       "7 months       963\n",
       "9 years        822\n",
       "9 months       673\n",
       "12 years       609\n",
       "1 weeks        513\n",
       "11 months      490\n",
       "11 years       429\n",
       "1 week         427\n",
       "13 years       389\n",
       "14 years       253\n",
       "3 days         235\n",
       "2 days         217\n",
       "15 years       208\n",
       "1 day          153\n",
       "6 days         152\n",
       "4 days         136\n",
       "5 days         116\n",
       "16 years       101\n",
       "0 years         95\n",
       "5 weeks         61\n",
       "17 years        58\n",
       "18 years        26\n",
       "19 years        13\n",
       "20 years        12\n",
       "22 years         4\n",
       "25 years         1\n",
       "Name: age_upon_outcome, dtype: int64"
      ]
     },
     "execution_count": 75,
     "metadata": {},
     "output_type": "execute_result"
    }
   ],
   "source": [
    "dataset.age_upon_outcome.value_counts()"
   ]
  },
  {
   "cell_type": "markdown",
   "metadata": {},
   "source": [
    "Есть много разных значения, причем можно выделить разновидности - дни, недели, месяцы, годы. \n",
    "\n",
    "В идеале все привести к какому-то одному значению, возможно в годах. Чтобы это сделать необходимо сначала все пересчитать в количество дней, а затем поделить на 365. "
   ]
  },
  {
   "cell_type": "code",
   "execution_count": 76,
   "metadata": {},
   "outputs": [],
   "source": [
    "dataset['value'] = dataset.age_upon_outcome.str.split(' ').str[0].fillna(0).astype(int)\n",
    "dataset['category'] = dataset.age_upon_outcome.str.split(' ').str[1].fillna(0)"
   ]
  },
  {
   "cell_type": "code",
   "execution_count": 77,
   "metadata": {},
   "outputs": [
    {
     "data": {
      "text/plain": [
       "array(['weeks', 'year', 'years', 'months', 'month', 'days', 'week', 'day',\n",
       "       0], dtype=object)"
      ]
     },
     "execution_count": 77,
     "metadata": {},
     "output_type": "execute_result"
    }
   ],
   "source": [
    "dataset['category'].unique()"
   ]
  },
  {
   "cell_type": "code",
   "execution_count": 78,
   "metadata": {},
   "outputs": [],
   "source": [
    "dataset['category'] =   np.where(dataset['category'].str.contains('day'), 1, \n",
    "                        np.where(dataset['category'].str.contains('week'), 7, \n",
    "                        np.where(dataset['category'].str.contains('month'), 30, \n",
    "                        np.where(dataset['category'].str.contains('year'), 365, 0)))).astype(int)\n",
    "\n",
    "dataset['outcome_age_(days)'] = dataset['category'] * dataset['value']\n",
    "dataset['outcome_age_(years)'] = dataset['outcome_age_(days)'] / 365"
   ]
  },
  {
   "cell_type": "code",
   "execution_count": 79,
   "metadata": {},
   "outputs": [],
   "source": [
    "dataset = dataset.drop(['age_upon_outcome','value','category','outcome_age_(days)'], axis=1)"
   ]
  },
  {
   "cell_type": "code",
   "execution_count": 80,
   "metadata": {},
   "outputs": [
    {
     "data": {
      "text/plain": [
       "78256"
      ]
     },
     "execution_count": 80,
     "metadata": {},
     "output_type": "execute_result"
    }
   ],
   "source": [
    "dataset['outcome_age_(years)'].count()"
   ]
  },
  {
   "cell_type": "code",
   "execution_count": 81,
   "metadata": {},
   "outputs": [
    {
     "data": {
      "text/plain": [
       "45"
      ]
     },
     "execution_count": 81,
     "metadata": {},
     "output_type": "execute_result"
    }
   ],
   "source": [
    "dataset['outcome_age_(years)'].value_counts().count()"
   ]
  },
  {
   "cell_type": "markdown",
   "metadata": {},
   "source": [
    "На 78 256 записей получается 45 уникальных записей о возврасте. Далее преобразования не производим. "
   ]
  },
  {
   "cell_type": "markdown",
   "metadata": {},
   "source": [
    "Предположим, что помимо самого показателя возраста особо влияение оказывает молодость (щенки, котята до 0,5 года) или наоборот старший возраст (более 10 лет). Так как не решать планируем при помощи дерева решений, то oh_encoding не применяем, только определяем категории. "
   ]
  },
  {
   "cell_type": "code",
   "execution_count": 82,
   "metadata": {},
   "outputs": [],
   "source": [
    "dataset['old/young'] =  np.where(dataset['outcome_age_(years)'] <= 0.5, 'young', \n",
    "                        np.where(dataset['outcome_age_(years)'] <= 5, 'medium',\n",
    "                        np.where(dataset['outcome_age_(years)'] <= 10, 'old', 'very_old')))"
   ]
  },
  {
   "cell_type": "code",
   "execution_count": 83,
   "metadata": {},
   "outputs": [
    {
     "data": {
      "text/plain": [
       "medium      40895\n",
       "young       28376\n",
       "old          6882\n",
       "very_old     2103\n",
       "Name: old/young, dtype: int64"
      ]
     },
     "execution_count": 83,
     "metadata": {},
     "output_type": "execute_result"
    }
   ],
   "source": [
    "dataset['old/young'].value_counts()"
   ]
  },
  {
   "cell_type": "markdown",
   "metadata": {},
   "source": [
    "### name"
   ]
  },
  {
   "cell_type": "code",
   "execution_count": 84,
   "metadata": {},
   "outputs": [],
   "source": [
    "dataset['name'] = dataset['name'].str.strip('*')"
   ]
  },
  {
   "cell_type": "code",
   "execution_count": 85,
   "metadata": {
    "scrolled": false
   },
   "outputs": [
    {
     "data": {
      "text/plain": [
       "Max            367\n",
       "Bella          367\n",
       "Charlie        291\n",
       "Daisy          285\n",
       "Luna           274\n",
       "              ... \n",
       "Jamilla Kim      1\n",
       "Abrams           1\n",
       "White Girl       1\n",
       "Brina            1\n",
       "Bernabe          1\n",
       "Name: name, Length: 11790, dtype: int64"
      ]
     },
     "execution_count": 85,
     "metadata": {},
     "output_type": "execute_result"
    }
   ],
   "source": [
    "dataset.name.value_counts()"
   ]
  },
  {
   "cell_type": "code",
   "execution_count": 86,
   "metadata": {},
   "outputs": [],
   "source": [
    "names_freq_df = dataset.name.value_counts().rename_axis('unique_values').reset_index(name='name_freq')"
   ]
  },
  {
   "cell_type": "code",
   "execution_count": 87,
   "metadata": {},
   "outputs": [
    {
     "data": {
      "text/html": [
       "<div>\n",
       "<style scoped>\n",
       "    .dataframe tbody tr th:only-of-type {\n",
       "        vertical-align: middle;\n",
       "    }\n",
       "\n",
       "    .dataframe tbody tr th {\n",
       "        vertical-align: top;\n",
       "    }\n",
       "\n",
       "    .dataframe thead th {\n",
       "        text-align: right;\n",
       "    }\n",
       "</style>\n",
       "<table border=\"1\" class=\"dataframe\">\n",
       "  <thead>\n",
       "    <tr style=\"text-align: right;\">\n",
       "      <th></th>\n",
       "      <th>unique_values</th>\n",
       "      <th>name_freq</th>\n",
       "    </tr>\n",
       "  </thead>\n",
       "  <tbody>\n",
       "    <tr>\n",
       "      <th>0</th>\n",
       "      <td>Max</td>\n",
       "      <td>367</td>\n",
       "    </tr>\n",
       "    <tr>\n",
       "      <th>1</th>\n",
       "      <td>Bella</td>\n",
       "      <td>367</td>\n",
       "    </tr>\n",
       "    <tr>\n",
       "      <th>2</th>\n",
       "      <td>Charlie</td>\n",
       "      <td>291</td>\n",
       "    </tr>\n",
       "    <tr>\n",
       "      <th>3</th>\n",
       "      <td>Daisy</td>\n",
       "      <td>285</td>\n",
       "    </tr>\n",
       "    <tr>\n",
       "      <th>4</th>\n",
       "      <td>Luna</td>\n",
       "      <td>274</td>\n",
       "    </tr>\n",
       "    <tr>\n",
       "      <th>...</th>\n",
       "      <td>...</td>\n",
       "      <td>...</td>\n",
       "    </tr>\n",
       "    <tr>\n",
       "      <th>11785</th>\n",
       "      <td>Jamilla Kim</td>\n",
       "      <td>1</td>\n",
       "    </tr>\n",
       "    <tr>\n",
       "      <th>11786</th>\n",
       "      <td>Abrams</td>\n",
       "      <td>1</td>\n",
       "    </tr>\n",
       "    <tr>\n",
       "      <th>11787</th>\n",
       "      <td>White Girl</td>\n",
       "      <td>1</td>\n",
       "    </tr>\n",
       "    <tr>\n",
       "      <th>11788</th>\n",
       "      <td>Brina</td>\n",
       "      <td>1</td>\n",
       "    </tr>\n",
       "    <tr>\n",
       "      <th>11789</th>\n",
       "      <td>Bernabe</td>\n",
       "      <td>1</td>\n",
       "    </tr>\n",
       "  </tbody>\n",
       "</table>\n",
       "<p>11790 rows × 2 columns</p>\n",
       "</div>"
      ],
      "text/plain": [
       "      unique_values  name_freq\n",
       "0               Max        367\n",
       "1             Bella        367\n",
       "2           Charlie        291\n",
       "3             Daisy        285\n",
       "4              Luna        274\n",
       "...             ...        ...\n",
       "11785   Jamilla Kim          1\n",
       "11786        Abrams          1\n",
       "11787    White Girl          1\n",
       "11788         Brina          1\n",
       "11789       Bernabe          1\n",
       "\n",
       "[11790 rows x 2 columns]"
      ]
     },
     "execution_count": 87,
     "metadata": {},
     "output_type": "execute_result"
    }
   ],
   "source": [
    "names_freq_df"
   ]
  },
  {
   "cell_type": "code",
   "execution_count": 88,
   "metadata": {},
   "outputs": [],
   "source": [
    "dataset = dataset.merge(names_freq_df, how='left', left_on='name', right_on='unique_values')"
   ]
  },
  {
   "cell_type": "markdown",
   "metadata": {},
   "source": [
    "Предположим, что само имя для нас не имеет значимости, но животных с наиболее популярными именами могут забирать из приюта чаще. \n",
    "\n",
    "Присвоим категории частоты имени."
   ]
  },
  {
   "cell_type": "code",
   "execution_count": 89,
   "metadata": {},
   "outputs": [],
   "source": [
    "dataset['popular_name'] =   np.where(dataset['name_freq'] >= 150, 'very popular', \n",
    "                            np.where(dataset['name_freq'] >= 50, 'popular',\n",
    "                            np.where(dataset['name_freq'] > 0, 'not popular', 'no name')))"
   ]
  },
  {
   "cell_type": "code",
   "execution_count": 90,
   "metadata": {},
   "outputs": [],
   "source": [
    "dataset = dataset.drop(['name','unique_values','name_freq'], axis=1)"
   ]
  },
  {
   "cell_type": "markdown",
   "metadata": {},
   "source": [
    "### date_of_birth & datetime"
   ]
  },
  {
   "cell_type": "markdown",
   "metadata": {},
   "source": [
    "Приведем столбцы к формату времени datetime. Время (часы:минуты:секунды) посчитаем избыточной иформацией и сразу уберем. "
   ]
  },
  {
   "cell_type": "code",
   "execution_count": 91,
   "metadata": {},
   "outputs": [],
   "source": [
    "dataset.date_of_birth = pd.to_datetime(dataset.date_of_birth).dt.date\n",
    "dataset['datetime_year'] = pd.to_datetime(dataset.datetime).dt.year\n",
    "dataset['datetime_month'] = pd.to_datetime(dataset.datetime).dt.month"
   ]
  },
  {
   "cell_type": "markdown",
   "metadata": {},
   "source": [
    "Так как мы уже используем возраст животного для классификации, то дата рождения может быть для нас избыточной. Убираем. \n",
    "\n",
    "Предположим некоторую сезонность. Выделим отдельно год и месяц признака datetime. \n",
    "\n",
    "Нужно уточнить в приюте - если дата рождения именно в приюте, то можно посчитать метрику \"сколько дней провел в периоде\" и использовать именно её вместо двух столбцов."
   ]
  },
  {
   "cell_type": "code",
   "execution_count": 92,
   "metadata": {},
   "outputs": [],
   "source": [
    "dataset = dataset.drop(['date_of_birth', 'datetime'], axis=1)"
   ]
  },
  {
   "cell_type": "markdown",
   "metadata": {},
   "source": [
    "### animal_type"
   ]
  },
  {
   "cell_type": "code",
   "execution_count": 93,
   "metadata": {},
   "outputs": [
    {
     "data": {
      "text/plain": [
       "Dog          44242\n",
       "Cat          29422\n",
       "Other         4249\n",
       "Bird           334\n",
       "Livestock        9\n",
       "Name: animal_type, dtype: int64"
      ]
     },
     "execution_count": 93,
     "metadata": {},
     "output_type": "execute_result"
    }
   ],
   "source": [
    "dataset.animal_type.value_counts()"
   ]
  },
  {
   "cell_type": "markdown",
   "metadata": {},
   "source": [
    "Предположительно \"дерево решений\" должно нормально \"проглотить\" категорию без необходимости генерации дополнительных столбцов. \n",
    "\n",
    "Птиц и скота на фоне общего числа в выборке, добавим их к \"другим\"."
   ]
  },
  {
   "cell_type": "code",
   "execution_count": 94,
   "metadata": {},
   "outputs": [],
   "source": [
    "dataset['animal_type'] =    np.where(dataset['animal_type'].str.contains('Bird'), 'Other', \n",
    "                            np.where(dataset['animal_type'].str.contains('Livestock'), 'Other', dataset['animal_type']))"
   ]
  },
  {
   "cell_type": "code",
   "execution_count": 95,
   "metadata": {},
   "outputs": [
    {
     "data": {
      "text/plain": [
       "Dog      44242\n",
       "Cat      29422\n",
       "Other     4592\n",
       "Name: animal_type, dtype: int64"
      ]
     },
     "execution_count": 95,
     "metadata": {},
     "output_type": "execute_result"
    }
   ],
   "source": [
    "dataset.animal_type.value_counts()"
   ]
  },
  {
   "cell_type": "markdown",
   "metadata": {},
   "source": [
    "### breed"
   ]
  },
  {
   "cell_type": "code",
   "execution_count": 96,
   "metadata": {},
   "outputs": [
    {
     "data": {
      "text/plain": [
       "Domestic Shorthair Mix                     23335\n",
       "Pit Bull Mix                                6135\n",
       "Chihuahua Shorthair Mix                     4733\n",
       "Labrador Retriever Mix                      4608\n",
       "Domestic Medium Hair Mix                    2323\n",
       "                                           ...  \n",
       "Shih Tzu/Pekingese                             1\n",
       "Dachshund Longhair/Miniature Poodle            1\n",
       "Norwich Terrier/Pug                            1\n",
       "Toy Fox Terrier/Yorkshire Terrier              1\n",
       "Jack Russell Terrier/Manchester Terrier        1\n",
       "Name: breed, Length: 2128, dtype: int64"
      ]
     },
     "execution_count": 96,
     "metadata": {},
     "output_type": "execute_result"
    }
   ],
   "source": [
    "dataset.breed.value_counts()"
   ]
  },
  {
   "cell_type": "markdown",
   "metadata": {},
   "source": [
    "Описание породы пока оставим без трансформации. Есть следующие варианты:\n",
    "- сгруппировать низкичастотные значения в \"другие\"\n",
    "- выделить у низкочастотных черер регэкс \"первую\" породу и приравнять к ней\n",
    "- вырезать mix как отдельный признак"
   ]
  },
  {
   "cell_type": "markdown",
   "metadata": {},
   "source": [
    "### color"
   ]
  },
  {
   "cell_type": "code",
   "execution_count": 97,
   "metadata": {},
   "outputs": [
    {
     "data": {
      "text/plain": [
       "Black/White             8153\n",
       "Black                   6602\n",
       "Brown Tabby             4445\n",
       "Brown                   3486\n",
       "White                   2784\n",
       "                        ... \n",
       "Torbie/Silver Tabby        1\n",
       "Seal Point/Cream           1\n",
       "Calico Point/Gray          1\n",
       "Chocolate/Liver Tick       1\n",
       "Chocolate/Gold             1\n",
       "Name: color, Length: 525, dtype: int64"
      ]
     },
     "execution_count": 97,
     "metadata": {},
     "output_type": "execute_result"
    }
   ],
   "source": [
    "dataset.color.value_counts()"
   ]
  },
  {
   "cell_type": "code",
   "execution_count": 98,
   "metadata": {},
   "outputs": [],
   "source": [
    "color_freq_df = dataset.color.value_counts().rename_axis('unique_values') \\\n",
    "                        .reset_index(name='color_freq')\n",
    "dataset = dataset.merge(color_freq_df, how='left', left_on='color', right_on='unique_values')\n",
    "dataset.color =   np.where(dataset['color_freq'] >= 5, dataset['color'], 'other')\n",
    "dataset = dataset.drop(['color_freq', 'unique_values'], axis=1)"
   ]
  },
  {
   "cell_type": "code",
   "execution_count": 99,
   "metadata": {},
   "outputs": [
    {
     "data": {
      "text/plain": [
       "Black/White           8153\n",
       "Black                 6602\n",
       "Brown Tabby           4445\n",
       "Brown                 3486\n",
       "White                 2784\n",
       "                      ... \n",
       "Blue Tick/Red Tick       5\n",
       "Fawn/Brown               5\n",
       "Brown Tabby/Brown        5\n",
       "Gray/Tortie              5\n",
       "Gold/Brown               5\n",
       "Name: color, Length: 245, dtype: int64"
      ]
     },
     "execution_count": 99,
     "metadata": {},
     "output_type": "execute_result"
    }
   ],
   "source": [
    "dataset.color.value_counts()"
   ]
  },
  {
   "cell_type": "markdown",
   "metadata": {},
   "source": [
    "### sex_upon_outcome"
   ]
  },
  {
   "cell_type": "code",
   "execution_count": 100,
   "metadata": {},
   "outputs": [
    {
     "data": {
      "text/plain": [
       "Neutered Male    27784\n",
       "Spayed Female    25203\n",
       "Intact Male       9549\n",
       "Intact Female     9143\n",
       "Unknown           6575\n",
       "Name: sex_upon_outcome, dtype: int64"
      ]
     },
     "execution_count": 100,
     "metadata": {},
     "output_type": "execute_result"
    }
   ],
   "source": [
    "dataset.sex_upon_outcome.value_counts()"
   ]
  },
  {
   "cell_type": "markdown",
   "metadata": {},
   "source": [
    "Из этого признака можем извлечь два - репродуктивный статус и пол животного. "
   ]
  },
  {
   "cell_type": "code",
   "execution_count": 101,
   "metadata": {},
   "outputs": [],
   "source": [
    "dataset['sex'] = np.where(dataset['sex_upon_outcome'].str.contains('Male'), 'Male', 'Female')\n",
    "dataset['Spay/Neuter'] = np.where(dataset['sex_upon_outcome'].str.contains('Unknown'), 'Unknown', \n",
    "                         np.where(dataset['sex_upon_outcome'].str.contains('Intact'), 'No', 'Yes'))"
   ]
  },
  {
   "cell_type": "code",
   "execution_count": 102,
   "metadata": {},
   "outputs": [
    {
     "data": {
      "text/html": [
       "<div>\n",
       "<style scoped>\n",
       "    .dataframe tbody tr th:only-of-type {\n",
       "        vertical-align: middle;\n",
       "    }\n",
       "\n",
       "    .dataframe tbody tr th {\n",
       "        vertical-align: top;\n",
       "    }\n",
       "\n",
       "    .dataframe thead th {\n",
       "        text-align: right;\n",
       "    }\n",
       "</style>\n",
       "<table border=\"1\" class=\"dataframe\">\n",
       "  <thead>\n",
       "    <tr style=\"text-align: right;\">\n",
       "      <th></th>\n",
       "      <th>animal_type</th>\n",
       "      <th>breed</th>\n",
       "      <th>color</th>\n",
       "      <th>outcome_subtype</th>\n",
       "      <th>outcome_type</th>\n",
       "      <th>sex_upon_outcome</th>\n",
       "      <th>outcome_age_(years)</th>\n",
       "      <th>old/young</th>\n",
       "      <th>popular_name</th>\n",
       "      <th>datetime_year</th>\n",
       "      <th>datetime_month</th>\n",
       "      <th>sex</th>\n",
       "      <th>Spay/Neuter</th>\n",
       "    </tr>\n",
       "  </thead>\n",
       "  <tbody>\n",
       "    <tr>\n",
       "      <th>0</th>\n",
       "      <td>Cat</td>\n",
       "      <td>Domestic Shorthair Mix</td>\n",
       "      <td>Orange Tabby</td>\n",
       "      <td>Partner</td>\n",
       "      <td>Transfer</td>\n",
       "      <td>Intact Male</td>\n",
       "      <td>0.038356</td>\n",
       "      <td>young</td>\n",
       "      <td>no name</td>\n",
       "      <td>2014</td>\n",
       "      <td>7</td>\n",
       "      <td>Male</td>\n",
       "      <td>No</td>\n",
       "    </tr>\n",
       "    <tr>\n",
       "      <th>1</th>\n",
       "      <td>Dog</td>\n",
       "      <td>Beagle Mix</td>\n",
       "      <td>White/Brown</td>\n",
       "      <td>Partner</td>\n",
       "      <td>Transfer</td>\n",
       "      <td>Spayed Female</td>\n",
       "      <td>1.000000</td>\n",
       "      <td>medium</td>\n",
       "      <td>very popular</td>\n",
       "      <td>2013</td>\n",
       "      <td>11</td>\n",
       "      <td>Female</td>\n",
       "      <td>Yes</td>\n",
       "    </tr>\n",
       "    <tr>\n",
       "      <th>2</th>\n",
       "      <td>Dog</td>\n",
       "      <td>Pit Bull</td>\n",
       "      <td>Blue/White</td>\n",
       "      <td>NaN</td>\n",
       "      <td>Adoption</td>\n",
       "      <td>Neutered Male</td>\n",
       "      <td>1.000000</td>\n",
       "      <td>medium</td>\n",
       "      <td>not popular</td>\n",
       "      <td>2014</td>\n",
       "      <td>6</td>\n",
       "      <td>Male</td>\n",
       "      <td>Yes</td>\n",
       "    </tr>\n",
       "    <tr>\n",
       "      <th>3</th>\n",
       "      <td>Dog</td>\n",
       "      <td>Miniature Schnauzer Mix</td>\n",
       "      <td>White</td>\n",
       "      <td>Partner</td>\n",
       "      <td>Transfer</td>\n",
       "      <td>Neutered Male</td>\n",
       "      <td>9.000000</td>\n",
       "      <td>old</td>\n",
       "      <td>not popular</td>\n",
       "      <td>2014</td>\n",
       "      <td>6</td>\n",
       "      <td>Male</td>\n",
       "      <td>Yes</td>\n",
       "    </tr>\n",
       "    <tr>\n",
       "      <th>4</th>\n",
       "      <td>Other</td>\n",
       "      <td>Bat Mix</td>\n",
       "      <td>Brown</td>\n",
       "      <td>Rabies Risk</td>\n",
       "      <td>Euthanasia</td>\n",
       "      <td>Unknown</td>\n",
       "      <td>0.410959</td>\n",
       "      <td>young</td>\n",
       "      <td>no name</td>\n",
       "      <td>2014</td>\n",
       "      <td>7</td>\n",
       "      <td>Female</td>\n",
       "      <td>Unknown</td>\n",
       "    </tr>\n",
       "    <tr>\n",
       "      <th>...</th>\n",
       "      <td>...</td>\n",
       "      <td>...</td>\n",
       "      <td>...</td>\n",
       "      <td>...</td>\n",
       "      <td>...</td>\n",
       "      <td>...</td>\n",
       "      <td>...</td>\n",
       "      <td>...</td>\n",
       "      <td>...</td>\n",
       "      <td>...</td>\n",
       "      <td>...</td>\n",
       "      <td>...</td>\n",
       "      <td>...</td>\n",
       "    </tr>\n",
       "    <tr>\n",
       "      <th>78251</th>\n",
       "      <td>Dog</td>\n",
       "      <td>Golden Retriever/Labrador Retriever</td>\n",
       "      <td>Brown/White</td>\n",
       "      <td>Foster</td>\n",
       "      <td>Adoption</td>\n",
       "      <td>Spayed Female</td>\n",
       "      <td>0.082192</td>\n",
       "      <td>young</td>\n",
       "      <td>no name</td>\n",
       "      <td>2018</td>\n",
       "      <td>2</td>\n",
       "      <td>Female</td>\n",
       "      <td>Yes</td>\n",
       "    </tr>\n",
       "    <tr>\n",
       "      <th>78252</th>\n",
       "      <td>Dog</td>\n",
       "      <td>Mastiff Mix</td>\n",
       "      <td>Blue/White</td>\n",
       "      <td>NaN</td>\n",
       "      <td>Adoption</td>\n",
       "      <td>Neutered Male</td>\n",
       "      <td>3.000000</td>\n",
       "      <td>medium</td>\n",
       "      <td>very popular</td>\n",
       "      <td>2018</td>\n",
       "      <td>2</td>\n",
       "      <td>Male</td>\n",
       "      <td>Yes</td>\n",
       "    </tr>\n",
       "    <tr>\n",
       "      <th>78253</th>\n",
       "      <td>Other</td>\n",
       "      <td>Bat Mix</td>\n",
       "      <td>Brown</td>\n",
       "      <td>Rabies Risk</td>\n",
       "      <td>Euthanasia</td>\n",
       "      <td>Unknown</td>\n",
       "      <td>0.000000</td>\n",
       "      <td>young</td>\n",
       "      <td>no name</td>\n",
       "      <td>2018</td>\n",
       "      <td>2</td>\n",
       "      <td>Female</td>\n",
       "      <td>Unknown</td>\n",
       "    </tr>\n",
       "    <tr>\n",
       "      <th>78254</th>\n",
       "      <td>Dog</td>\n",
       "      <td>Standard Schnauzer</td>\n",
       "      <td>Red</td>\n",
       "      <td>NaN</td>\n",
       "      <td>Adoption</td>\n",
       "      <td>Spayed Female</td>\n",
       "      <td>0.164384</td>\n",
       "      <td>young</td>\n",
       "      <td>no name</td>\n",
       "      <td>2018</td>\n",
       "      <td>2</td>\n",
       "      <td>Female</td>\n",
       "      <td>Yes</td>\n",
       "    </tr>\n",
       "    <tr>\n",
       "      <th>78255</th>\n",
       "      <td>Dog</td>\n",
       "      <td>Labrador Retriever Mix</td>\n",
       "      <td>White/Brown</td>\n",
       "      <td>NaN</td>\n",
       "      <td>Adoption</td>\n",
       "      <td>Neutered Male</td>\n",
       "      <td>0.164384</td>\n",
       "      <td>young</td>\n",
       "      <td>no name</td>\n",
       "      <td>2018</td>\n",
       "      <td>2</td>\n",
       "      <td>Male</td>\n",
       "      <td>Yes</td>\n",
       "    </tr>\n",
       "  </tbody>\n",
       "</table>\n",
       "<p>78256 rows × 13 columns</p>\n",
       "</div>"
      ],
      "text/plain": [
       "      animal_type                                breed         color  \\\n",
       "0             Cat               Domestic Shorthair Mix  Orange Tabby   \n",
       "1             Dog                           Beagle Mix   White/Brown   \n",
       "2             Dog                             Pit Bull    Blue/White   \n",
       "3             Dog              Miniature Schnauzer Mix         White   \n",
       "4           Other                              Bat Mix         Brown   \n",
       "...           ...                                  ...           ...   \n",
       "78251         Dog  Golden Retriever/Labrador Retriever   Brown/White   \n",
       "78252         Dog                          Mastiff Mix    Blue/White   \n",
       "78253       Other                              Bat Mix         Brown   \n",
       "78254         Dog                   Standard Schnauzer           Red   \n",
       "78255         Dog               Labrador Retriever Mix   White/Brown   \n",
       "\n",
       "      outcome_subtype outcome_type sex_upon_outcome  outcome_age_(years)  \\\n",
       "0             Partner     Transfer      Intact Male             0.038356   \n",
       "1             Partner     Transfer    Spayed Female             1.000000   \n",
       "2                 NaN     Adoption    Neutered Male             1.000000   \n",
       "3             Partner     Transfer    Neutered Male             9.000000   \n",
       "4         Rabies Risk   Euthanasia          Unknown             0.410959   \n",
       "...               ...          ...              ...                  ...   \n",
       "78251          Foster     Adoption    Spayed Female             0.082192   \n",
       "78252             NaN     Adoption    Neutered Male             3.000000   \n",
       "78253     Rabies Risk   Euthanasia          Unknown             0.000000   \n",
       "78254             NaN     Adoption    Spayed Female             0.164384   \n",
       "78255             NaN     Adoption    Neutered Male             0.164384   \n",
       "\n",
       "      old/young  popular_name  datetime_year  datetime_month     sex  \\\n",
       "0         young       no name           2014               7    Male   \n",
       "1        medium  very popular           2013              11  Female   \n",
       "2        medium   not popular           2014               6    Male   \n",
       "3           old   not popular           2014               6    Male   \n",
       "4         young       no name           2014               7  Female   \n",
       "...         ...           ...            ...             ...     ...   \n",
       "78251     young       no name           2018               2  Female   \n",
       "78252    medium  very popular           2018               2    Male   \n",
       "78253     young       no name           2018               2  Female   \n",
       "78254     young       no name           2018               2  Female   \n",
       "78255     young       no name           2018               2    Male   \n",
       "\n",
       "      Spay/Neuter  \n",
       "0              No  \n",
       "1             Yes  \n",
       "2             Yes  \n",
       "3             Yes  \n",
       "4         Unknown  \n",
       "...           ...  \n",
       "78251         Yes  \n",
       "78252         Yes  \n",
       "78253     Unknown  \n",
       "78254         Yes  \n",
       "78255         Yes  \n",
       "\n",
       "[78256 rows x 13 columns]"
      ]
     },
     "execution_count": 102,
     "metadata": {},
     "output_type": "execute_result"
    }
   ],
   "source": [
    "dataset"
   ]
  },
  {
   "cell_type": "code",
   "execution_count": 103,
   "metadata": {},
   "outputs": [],
   "source": [
    "dataset = dataset.drop('sex_upon_outcome', axis=1)"
   ]
  },
  {
   "cell_type": "markdown",
   "metadata": {},
   "source": [
    "### outcome_subtype"
   ]
  },
  {
   "cell_type": "code",
   "execution_count": 104,
   "metadata": {},
   "outputs": [
    {
     "data": {
      "text/plain": [
       "Partner                19660\n",
       "Foster                  5558\n",
       "SCRP                    3211\n",
       "Suffering               2514\n",
       "Rabies Risk             2417\n",
       "Snr                      626\n",
       "Aggressive               506\n",
       "Offsite                  367\n",
       "In Kennel                343\n",
       "Medical                  259\n",
       "In Foster                182\n",
       "Behavior                 142\n",
       "At Vet                    59\n",
       "Enroute                   45\n",
       "Underage                  28\n",
       "Court/Investigation       18\n",
       "In Surgery                16\n",
       "Possible Theft             9\n",
       "Barn                       3\n",
       "Name: outcome_subtype, dtype: int64"
      ]
     },
     "execution_count": 104,
     "metadata": {},
     "output_type": "execute_result"
    }
   ],
   "source": [
    "dataset.outcome_subtype.value_counts()"
   ]
  },
  {
   "cell_type": "markdown",
   "metadata": {},
   "source": [
    "Сгруппируем значения признака с частотой менее 150 в группу \"other\"."
   ]
  },
  {
   "cell_type": "code",
   "execution_count": 105,
   "metadata": {},
   "outputs": [],
   "source": [
    "outcome_freq_df = dataset.outcome_subtype.value_counts().rename_axis('unique_values') \\\n",
    "                        .reset_index(name='outcome_freq')"
   ]
  },
  {
   "cell_type": "code",
   "execution_count": 106,
   "metadata": {},
   "outputs": [],
   "source": [
    "dataset = dataset.merge(outcome_freq_df, how='left', left_on='outcome_subtype', right_on='unique_values')"
   ]
  },
  {
   "cell_type": "code",
   "execution_count": 107,
   "metadata": {},
   "outputs": [],
   "source": [
    "dataset.outcome_subtype =   np.where(dataset['outcome_freq'] >= 150, dataset['outcome_subtype'], \n",
    "                            np.where(dataset['outcome_freq'] > 0, 'other', 'unknown'))"
   ]
  },
  {
   "cell_type": "code",
   "execution_count": 108,
   "metadata": {},
   "outputs": [],
   "source": [
    "dataset = dataset.drop(['outcome_freq', 'unique_values'], axis=1)"
   ]
  },
  {
   "cell_type": "code",
   "execution_count": 109,
   "metadata": {},
   "outputs": [
    {
     "data": {
      "text/plain": [
       "unknown        42293\n",
       "Partner        19660\n",
       "Foster          5558\n",
       "SCRP            3211\n",
       "Suffering       2514\n",
       "Rabies Risk     2417\n",
       "Snr              626\n",
       "Aggressive       506\n",
       "Offsite          367\n",
       "In Kennel        343\n",
       "other            320\n",
       "Medical          259\n",
       "In Foster        182\n",
       "Name: outcome_subtype, dtype: int64"
      ]
     },
     "execution_count": 109,
     "metadata": {},
     "output_type": "execute_result"
    }
   ],
   "source": [
    "dataset.outcome_subtype.value_counts()"
   ]
  },
  {
   "cell_type": "markdown",
   "metadata": {},
   "source": [
    "### outcome_type"
   ]
  },
  {
   "cell_type": "code",
   "execution_count": 110,
   "metadata": {},
   "outputs": [
    {
     "data": {
      "text/plain": [
       "Adoption           33112\n",
       "Transfer           23499\n",
       "Return to Owner    14354\n",
       "Euthanasia          6080\n",
       "Died                 680\n",
       "Disposal             307\n",
       "Rto-Adopt            150\n",
       "Missing               46\n",
       "Relocate              16\n",
       "Name: outcome_type, dtype: int64"
      ]
     },
     "execution_count": 110,
     "metadata": {},
     "output_type": "execute_result"
    }
   ],
   "source": [
    "dataset.outcome_type.value_counts()"
   ]
  },
  {
   "cell_type": "code",
   "execution_count": 111,
   "metadata": {},
   "outputs": [
    {
     "data": {
      "text/html": [
       "<div>\n",
       "<style scoped>\n",
       "    .dataframe tbody tr th:only-of-type {\n",
       "        vertical-align: middle;\n",
       "    }\n",
       "\n",
       "    .dataframe tbody tr th {\n",
       "        vertical-align: top;\n",
       "    }\n",
       "\n",
       "    .dataframe thead th {\n",
       "        text-align: right;\n",
       "    }\n",
       "</style>\n",
       "<table border=\"1\" class=\"dataframe\">\n",
       "  <thead>\n",
       "    <tr style=\"text-align: right;\">\n",
       "      <th></th>\n",
       "      <th>animal_type</th>\n",
       "      <th>breed</th>\n",
       "      <th>color</th>\n",
       "      <th>outcome_subtype</th>\n",
       "      <th>outcome_type</th>\n",
       "      <th>outcome_age_(years)</th>\n",
       "      <th>old/young</th>\n",
       "      <th>popular_name</th>\n",
       "      <th>datetime_year</th>\n",
       "      <th>datetime_month</th>\n",
       "      <th>sex</th>\n",
       "      <th>Spay/Neuter</th>\n",
       "    </tr>\n",
       "  </thead>\n",
       "  <tbody>\n",
       "    <tr>\n",
       "      <th>10753</th>\n",
       "      <td>Other</td>\n",
       "      <td>Fox Mix</td>\n",
       "      <td>Brown/Black</td>\n",
       "      <td>unknown</td>\n",
       "      <td>NaN</td>\n",
       "      <td>1.000000</td>\n",
       "      <td>medium</td>\n",
       "      <td>no name</td>\n",
       "      <td>2014</td>\n",
       "      <td>1</td>\n",
       "      <td>Female</td>\n",
       "      <td>Unknown</td>\n",
       "    </tr>\n",
       "    <tr>\n",
       "      <th>13270</th>\n",
       "      <td>Other</td>\n",
       "      <td>Bat Mix</td>\n",
       "      <td>Brown</td>\n",
       "      <td>unknown</td>\n",
       "      <td>NaN</td>\n",
       "      <td>0.000000</td>\n",
       "      <td>young</td>\n",
       "      <td>no name</td>\n",
       "      <td>2014</td>\n",
       "      <td>3</td>\n",
       "      <td>Female</td>\n",
       "      <td>Unknown</td>\n",
       "    </tr>\n",
       "    <tr>\n",
       "      <th>13302</th>\n",
       "      <td>Other</td>\n",
       "      <td>Rabbit Sh</td>\n",
       "      <td>Brown</td>\n",
       "      <td>unknown</td>\n",
       "      <td>NaN</td>\n",
       "      <td>0.076712</td>\n",
       "      <td>young</td>\n",
       "      <td>no name</td>\n",
       "      <td>2014</td>\n",
       "      <td>5</td>\n",
       "      <td>Female</td>\n",
       "      <td>Unknown</td>\n",
       "    </tr>\n",
       "    <tr>\n",
       "      <th>16951</th>\n",
       "      <td>Other</td>\n",
       "      <td>Bat Mix</td>\n",
       "      <td>Brown</td>\n",
       "      <td>unknown</td>\n",
       "      <td>NaN</td>\n",
       "      <td>1.000000</td>\n",
       "      <td>medium</td>\n",
       "      <td>no name</td>\n",
       "      <td>2014</td>\n",
       "      <td>8</td>\n",
       "      <td>Female</td>\n",
       "      <td>Unknown</td>\n",
       "    </tr>\n",
       "    <tr>\n",
       "      <th>29214</th>\n",
       "      <td>Other</td>\n",
       "      <td>Bat Mix</td>\n",
       "      <td>Black</td>\n",
       "      <td>unknown</td>\n",
       "      <td>NaN</td>\n",
       "      <td>1.000000</td>\n",
       "      <td>medium</td>\n",
       "      <td>no name</td>\n",
       "      <td>2017</td>\n",
       "      <td>2</td>\n",
       "      <td>Female</td>\n",
       "      <td>Unknown</td>\n",
       "    </tr>\n",
       "    <tr>\n",
       "      <th>64626</th>\n",
       "      <td>Cat</td>\n",
       "      <td>Domestic Shorthair Mix</td>\n",
       "      <td>Black</td>\n",
       "      <td>unknown</td>\n",
       "      <td>NaN</td>\n",
       "      <td>0.082192</td>\n",
       "      <td>young</td>\n",
       "      <td>not popular</td>\n",
       "      <td>2017</td>\n",
       "      <td>8</td>\n",
       "      <td>Male</td>\n",
       "      <td>No</td>\n",
       "    </tr>\n",
       "    <tr>\n",
       "      <th>68246</th>\n",
       "      <td>Dog</td>\n",
       "      <td>Labrador Retriever Mix</td>\n",
       "      <td>Black/White</td>\n",
       "      <td>unknown</td>\n",
       "      <td>NaN</td>\n",
       "      <td>0.000000</td>\n",
       "      <td>young</td>\n",
       "      <td>not popular</td>\n",
       "      <td>2016</td>\n",
       "      <td>11</td>\n",
       "      <td>Male</td>\n",
       "      <td>Unknown</td>\n",
       "    </tr>\n",
       "    <tr>\n",
       "      <th>69847</th>\n",
       "      <td>Cat</td>\n",
       "      <td>Domestic Shorthair Mix</td>\n",
       "      <td>Black Smoke</td>\n",
       "      <td>unknown</td>\n",
       "      <td>NaN</td>\n",
       "      <td>0.082192</td>\n",
       "      <td>young</td>\n",
       "      <td>popular</td>\n",
       "      <td>2017</td>\n",
       "      <td>8</td>\n",
       "      <td>Female</td>\n",
       "      <td>No</td>\n",
       "    </tr>\n",
       "    <tr>\n",
       "      <th>72037</th>\n",
       "      <td>Cat</td>\n",
       "      <td>Domestic Shorthair Mix</td>\n",
       "      <td>Blue</td>\n",
       "      <td>unknown</td>\n",
       "      <td>NaN</td>\n",
       "      <td>0.082192</td>\n",
       "      <td>young</td>\n",
       "      <td>not popular</td>\n",
       "      <td>2017</td>\n",
       "      <td>8</td>\n",
       "      <td>Female</td>\n",
       "      <td>No</td>\n",
       "    </tr>\n",
       "    <tr>\n",
       "      <th>76709</th>\n",
       "      <td>Dog</td>\n",
       "      <td>Chihuahua Longhair Mix</td>\n",
       "      <td>Cream</td>\n",
       "      <td>unknown</td>\n",
       "      <td>NaN</td>\n",
       "      <td>10.000000</td>\n",
       "      <td>old</td>\n",
       "      <td>popular</td>\n",
       "      <td>2016</td>\n",
       "      <td>3</td>\n",
       "      <td>Male</td>\n",
       "      <td>Yes</td>\n",
       "    </tr>\n",
       "    <tr>\n",
       "      <th>76710</th>\n",
       "      <td>Dog</td>\n",
       "      <td>Pit Bull Mix</td>\n",
       "      <td>Fawn/White</td>\n",
       "      <td>unknown</td>\n",
       "      <td>NaN</td>\n",
       "      <td>0.821918</td>\n",
       "      <td>medium</td>\n",
       "      <td>popular</td>\n",
       "      <td>2016</td>\n",
       "      <td>11</td>\n",
       "      <td>Male</td>\n",
       "      <td>No</td>\n",
       "    </tr>\n",
       "    <tr>\n",
       "      <th>76825</th>\n",
       "      <td>Dog</td>\n",
       "      <td>Pit Bull Mix</td>\n",
       "      <td>Black/White</td>\n",
       "      <td>unknown</td>\n",
       "      <td>NaN</td>\n",
       "      <td>0.000000</td>\n",
       "      <td>young</td>\n",
       "      <td>popular</td>\n",
       "      <td>2017</td>\n",
       "      <td>12</td>\n",
       "      <td>Female</td>\n",
       "      <td>No</td>\n",
       "    </tr>\n",
       "  </tbody>\n",
       "</table>\n",
       "</div>"
      ],
      "text/plain": [
       "      animal_type                   breed        color outcome_subtype  \\\n",
       "10753       Other                 Fox Mix  Brown/Black         unknown   \n",
       "13270       Other                 Bat Mix        Brown         unknown   \n",
       "13302       Other               Rabbit Sh        Brown         unknown   \n",
       "16951       Other                 Bat Mix        Brown         unknown   \n",
       "29214       Other                 Bat Mix        Black         unknown   \n",
       "64626         Cat  Domestic Shorthair Mix        Black         unknown   \n",
       "68246         Dog  Labrador Retriever Mix  Black/White         unknown   \n",
       "69847         Cat  Domestic Shorthair Mix  Black Smoke         unknown   \n",
       "72037         Cat  Domestic Shorthair Mix         Blue         unknown   \n",
       "76709         Dog  Chihuahua Longhair Mix        Cream         unknown   \n",
       "76710         Dog            Pit Bull Mix   Fawn/White         unknown   \n",
       "76825         Dog            Pit Bull Mix  Black/White         unknown   \n",
       "\n",
       "      outcome_type  outcome_age_(years) old/young popular_name  datetime_year  \\\n",
       "10753          NaN             1.000000    medium      no name           2014   \n",
       "13270          NaN             0.000000     young      no name           2014   \n",
       "13302          NaN             0.076712     young      no name           2014   \n",
       "16951          NaN             1.000000    medium      no name           2014   \n",
       "29214          NaN             1.000000    medium      no name           2017   \n",
       "64626          NaN             0.082192     young  not popular           2017   \n",
       "68246          NaN             0.000000     young  not popular           2016   \n",
       "69847          NaN             0.082192     young      popular           2017   \n",
       "72037          NaN             0.082192     young  not popular           2017   \n",
       "76709          NaN            10.000000       old      popular           2016   \n",
       "76710          NaN             0.821918    medium      popular           2016   \n",
       "76825          NaN             0.000000     young      popular           2017   \n",
       "\n",
       "       datetime_month     sex Spay/Neuter  \n",
       "10753               1  Female     Unknown  \n",
       "13270               3  Female     Unknown  \n",
       "13302               5  Female     Unknown  \n",
       "16951               8  Female     Unknown  \n",
       "29214               2  Female     Unknown  \n",
       "64626               8    Male          No  \n",
       "68246              11    Male     Unknown  \n",
       "69847               8  Female          No  \n",
       "72037               8  Female          No  \n",
       "76709               3    Male         Yes  \n",
       "76710              11    Male          No  \n",
       "76825              12  Female          No  "
      ]
     },
     "execution_count": 111,
     "metadata": {},
     "output_type": "execute_result"
    }
   ],
   "source": [
    "dataset[dataset.outcome_type.isna() == 1]"
   ]
  },
  {
   "cell_type": "markdown",
   "metadata": {},
   "source": [
    "В выборке есть как малочастотные варианты, так и небольшое число нулевых значений. \n",
    "\n",
    "Для целей прогноза сгруппируем значения ниже 500 в other."
   ]
  },
  {
   "cell_type": "code",
   "execution_count": 112,
   "metadata": {},
   "outputs": [],
   "source": [
    "outcome_res_freq_df = dataset.outcome_type.value_counts().rename_axis('unique_values') \\\n",
    "                        .reset_index(name='outcome_res_freq')"
   ]
  },
  {
   "cell_type": "code",
   "execution_count": 113,
   "metadata": {},
   "outputs": [],
   "source": [
    "dataset = dataset.merge(outcome_res_freq_df, how='left', left_on='outcome_type', right_on='unique_values')"
   ]
  },
  {
   "cell_type": "code",
   "execution_count": 114,
   "metadata": {},
   "outputs": [],
   "source": [
    "dataset.outcome_type =   np.where(dataset['outcome_res_freq'] >= 500, dataset['outcome_type'], 'other')"
   ]
  },
  {
   "cell_type": "code",
   "execution_count": 115,
   "metadata": {},
   "outputs": [],
   "source": [
    "dataset = dataset.drop(['outcome_res_freq', 'unique_values'], axis=1)"
   ]
  },
  {
   "cell_type": "code",
   "execution_count": 116,
   "metadata": {},
   "outputs": [
    {
     "data": {
      "text/plain": [
       "Adoption           33112\n",
       "Transfer           23499\n",
       "Return to Owner    14354\n",
       "Euthanasia          6080\n",
       "Died                 680\n",
       "other                531\n",
       "Name: outcome_type, dtype: int64"
      ]
     },
     "execution_count": 116,
     "metadata": {},
     "output_type": "execute_result"
    }
   ],
   "source": [
    "dataset.outcome_type.value_counts()"
   ]
  },
  {
   "cell_type": "markdown",
   "metadata": {},
   "source": [
    "### Проверка на пустые значения"
   ]
  },
  {
   "cell_type": "code",
   "execution_count": 117,
   "metadata": {},
   "outputs": [
    {
     "name": "stdout",
     "output_type": "stream",
     "text": [
      "<class 'pandas.core.frame.DataFrame'>\n",
      "Int64Index: 78256 entries, 0 to 78255\n",
      "Data columns (total 12 columns):\n",
      " #   Column               Non-Null Count  Dtype  \n",
      "---  ------               --------------  -----  \n",
      " 0   animal_type          78256 non-null  object \n",
      " 1   breed                78256 non-null  object \n",
      " 2   color                78256 non-null  object \n",
      " 3   outcome_subtype      78256 non-null  object \n",
      " 4   outcome_type         78256 non-null  object \n",
      " 5   outcome_age_(years)  78256 non-null  float64\n",
      " 6   old/young            78256 non-null  object \n",
      " 7   popular_name         78256 non-null  object \n",
      " 8   datetime_year        78256 non-null  int64  \n",
      " 9   datetime_month       78256 non-null  int64  \n",
      " 10  sex                  78256 non-null  object \n",
      " 11  Spay/Neuter          78256 non-null  object \n",
      "dtypes: float64(1), int64(2), object(9)\n",
      "memory usage: 5.1+ MB\n"
     ]
    }
   ],
   "source": [
    "dataset.info()"
   ]
  },
  {
   "cell_type": "code",
   "execution_count": 118,
   "metadata": {},
   "outputs": [
    {
     "data": {
      "text/html": [
       "<div>\n",
       "<style scoped>\n",
       "    .dataframe tbody tr th:only-of-type {\n",
       "        vertical-align: middle;\n",
       "    }\n",
       "\n",
       "    .dataframe tbody tr th {\n",
       "        vertical-align: top;\n",
       "    }\n",
       "\n",
       "    .dataframe thead th {\n",
       "        text-align: right;\n",
       "    }\n",
       "</style>\n",
       "<table border=\"1\" class=\"dataframe\">\n",
       "  <thead>\n",
       "    <tr style=\"text-align: right;\">\n",
       "      <th></th>\n",
       "      <th>animal_type</th>\n",
       "      <th>breed</th>\n",
       "      <th>color</th>\n",
       "      <th>outcome_subtype</th>\n",
       "      <th>outcome_type</th>\n",
       "      <th>outcome_age_(years)</th>\n",
       "      <th>old/young</th>\n",
       "      <th>popular_name</th>\n",
       "      <th>datetime_year</th>\n",
       "      <th>datetime_month</th>\n",
       "      <th>sex</th>\n",
       "      <th>Spay/Neuter</th>\n",
       "    </tr>\n",
       "  </thead>\n",
       "  <tbody>\n",
       "    <tr>\n",
       "      <th>0</th>\n",
       "      <td>Cat</td>\n",
       "      <td>Domestic Shorthair Mix</td>\n",
       "      <td>Orange Tabby</td>\n",
       "      <td>Partner</td>\n",
       "      <td>Transfer</td>\n",
       "      <td>0.038356</td>\n",
       "      <td>young</td>\n",
       "      <td>no name</td>\n",
       "      <td>2014</td>\n",
       "      <td>7</td>\n",
       "      <td>Male</td>\n",
       "      <td>No</td>\n",
       "    </tr>\n",
       "    <tr>\n",
       "      <th>1</th>\n",
       "      <td>Dog</td>\n",
       "      <td>Beagle Mix</td>\n",
       "      <td>White/Brown</td>\n",
       "      <td>Partner</td>\n",
       "      <td>Transfer</td>\n",
       "      <td>1.000000</td>\n",
       "      <td>medium</td>\n",
       "      <td>very popular</td>\n",
       "      <td>2013</td>\n",
       "      <td>11</td>\n",
       "      <td>Female</td>\n",
       "      <td>Yes</td>\n",
       "    </tr>\n",
       "    <tr>\n",
       "      <th>2</th>\n",
       "      <td>Dog</td>\n",
       "      <td>Pit Bull</td>\n",
       "      <td>Blue/White</td>\n",
       "      <td>unknown</td>\n",
       "      <td>Adoption</td>\n",
       "      <td>1.000000</td>\n",
       "      <td>medium</td>\n",
       "      <td>not popular</td>\n",
       "      <td>2014</td>\n",
       "      <td>6</td>\n",
       "      <td>Male</td>\n",
       "      <td>Yes</td>\n",
       "    </tr>\n",
       "    <tr>\n",
       "      <th>3</th>\n",
       "      <td>Dog</td>\n",
       "      <td>Miniature Schnauzer Mix</td>\n",
       "      <td>White</td>\n",
       "      <td>Partner</td>\n",
       "      <td>Transfer</td>\n",
       "      <td>9.000000</td>\n",
       "      <td>old</td>\n",
       "      <td>not popular</td>\n",
       "      <td>2014</td>\n",
       "      <td>6</td>\n",
       "      <td>Male</td>\n",
       "      <td>Yes</td>\n",
       "    </tr>\n",
       "    <tr>\n",
       "      <th>4</th>\n",
       "      <td>Other</td>\n",
       "      <td>Bat Mix</td>\n",
       "      <td>Brown</td>\n",
       "      <td>Rabies Risk</td>\n",
       "      <td>Euthanasia</td>\n",
       "      <td>0.410959</td>\n",
       "      <td>young</td>\n",
       "      <td>no name</td>\n",
       "      <td>2014</td>\n",
       "      <td>7</td>\n",
       "      <td>Female</td>\n",
       "      <td>Unknown</td>\n",
       "    </tr>\n",
       "    <tr>\n",
       "      <th>...</th>\n",
       "      <td>...</td>\n",
       "      <td>...</td>\n",
       "      <td>...</td>\n",
       "      <td>...</td>\n",
       "      <td>...</td>\n",
       "      <td>...</td>\n",
       "      <td>...</td>\n",
       "      <td>...</td>\n",
       "      <td>...</td>\n",
       "      <td>...</td>\n",
       "      <td>...</td>\n",
       "      <td>...</td>\n",
       "    </tr>\n",
       "    <tr>\n",
       "      <th>78251</th>\n",
       "      <td>Dog</td>\n",
       "      <td>Golden Retriever/Labrador Retriever</td>\n",
       "      <td>Brown/White</td>\n",
       "      <td>Foster</td>\n",
       "      <td>Adoption</td>\n",
       "      <td>0.082192</td>\n",
       "      <td>young</td>\n",
       "      <td>no name</td>\n",
       "      <td>2018</td>\n",
       "      <td>2</td>\n",
       "      <td>Female</td>\n",
       "      <td>Yes</td>\n",
       "    </tr>\n",
       "    <tr>\n",
       "      <th>78252</th>\n",
       "      <td>Dog</td>\n",
       "      <td>Mastiff Mix</td>\n",
       "      <td>Blue/White</td>\n",
       "      <td>unknown</td>\n",
       "      <td>Adoption</td>\n",
       "      <td>3.000000</td>\n",
       "      <td>medium</td>\n",
       "      <td>very popular</td>\n",
       "      <td>2018</td>\n",
       "      <td>2</td>\n",
       "      <td>Male</td>\n",
       "      <td>Yes</td>\n",
       "    </tr>\n",
       "    <tr>\n",
       "      <th>78253</th>\n",
       "      <td>Other</td>\n",
       "      <td>Bat Mix</td>\n",
       "      <td>Brown</td>\n",
       "      <td>Rabies Risk</td>\n",
       "      <td>Euthanasia</td>\n",
       "      <td>0.000000</td>\n",
       "      <td>young</td>\n",
       "      <td>no name</td>\n",
       "      <td>2018</td>\n",
       "      <td>2</td>\n",
       "      <td>Female</td>\n",
       "      <td>Unknown</td>\n",
       "    </tr>\n",
       "    <tr>\n",
       "      <th>78254</th>\n",
       "      <td>Dog</td>\n",
       "      <td>Standard Schnauzer</td>\n",
       "      <td>Red</td>\n",
       "      <td>unknown</td>\n",
       "      <td>Adoption</td>\n",
       "      <td>0.164384</td>\n",
       "      <td>young</td>\n",
       "      <td>no name</td>\n",
       "      <td>2018</td>\n",
       "      <td>2</td>\n",
       "      <td>Female</td>\n",
       "      <td>Yes</td>\n",
       "    </tr>\n",
       "    <tr>\n",
       "      <th>78255</th>\n",
       "      <td>Dog</td>\n",
       "      <td>Labrador Retriever Mix</td>\n",
       "      <td>White/Brown</td>\n",
       "      <td>unknown</td>\n",
       "      <td>Adoption</td>\n",
       "      <td>0.164384</td>\n",
       "      <td>young</td>\n",
       "      <td>no name</td>\n",
       "      <td>2018</td>\n",
       "      <td>2</td>\n",
       "      <td>Male</td>\n",
       "      <td>Yes</td>\n",
       "    </tr>\n",
       "  </tbody>\n",
       "</table>\n",
       "<p>78256 rows × 12 columns</p>\n",
       "</div>"
      ],
      "text/plain": [
       "      animal_type                                breed         color  \\\n",
       "0             Cat               Domestic Shorthair Mix  Orange Tabby   \n",
       "1             Dog                           Beagle Mix   White/Brown   \n",
       "2             Dog                             Pit Bull    Blue/White   \n",
       "3             Dog              Miniature Schnauzer Mix         White   \n",
       "4           Other                              Bat Mix         Brown   \n",
       "...           ...                                  ...           ...   \n",
       "78251         Dog  Golden Retriever/Labrador Retriever   Brown/White   \n",
       "78252         Dog                          Mastiff Mix    Blue/White   \n",
       "78253       Other                              Bat Mix         Brown   \n",
       "78254         Dog                   Standard Schnauzer           Red   \n",
       "78255         Dog               Labrador Retriever Mix   White/Brown   \n",
       "\n",
       "      outcome_subtype outcome_type  outcome_age_(years) old/young  \\\n",
       "0             Partner     Transfer             0.038356     young   \n",
       "1             Partner     Transfer             1.000000    medium   \n",
       "2             unknown     Adoption             1.000000    medium   \n",
       "3             Partner     Transfer             9.000000       old   \n",
       "4         Rabies Risk   Euthanasia             0.410959     young   \n",
       "...               ...          ...                  ...       ...   \n",
       "78251          Foster     Adoption             0.082192     young   \n",
       "78252         unknown     Adoption             3.000000    medium   \n",
       "78253     Rabies Risk   Euthanasia             0.000000     young   \n",
       "78254         unknown     Adoption             0.164384     young   \n",
       "78255         unknown     Adoption             0.164384     young   \n",
       "\n",
       "       popular_name  datetime_year  datetime_month     sex Spay/Neuter  \n",
       "0           no name           2014               7    Male          No  \n",
       "1      very popular           2013              11  Female         Yes  \n",
       "2       not popular           2014               6    Male         Yes  \n",
       "3       not popular           2014               6    Male         Yes  \n",
       "4           no name           2014               7  Female     Unknown  \n",
       "...             ...            ...             ...     ...         ...  \n",
       "78251       no name           2018               2  Female         Yes  \n",
       "78252  very popular           2018               2    Male         Yes  \n",
       "78253       no name           2018               2  Female     Unknown  \n",
       "78254       no name           2018               2  Female         Yes  \n",
       "78255       no name           2018               2    Male         Yes  \n",
       "\n",
       "[78256 rows x 12 columns]"
      ]
     },
     "execution_count": 118,
     "metadata": {},
     "output_type": "execute_result"
    }
   ],
   "source": [
    "dataset"
   ]
  },
  {
   "cell_type": "markdown",
   "metadata": {},
   "source": [
    "### Дерево решений"
   ]
  },
  {
   "cell_type": "markdown",
   "metadata": {},
   "source": [
    "Нормализацию признаков не используем, так как она не влияет на качество работы дерева решений."
   ]
  },
  {
   "cell_type": "code",
   "execution_count": 129,
   "metadata": {},
   "outputs": [],
   "source": [
    "output_y = dataset.outcome_type\n",
    "input_x_digit = dataset[['datetime_month', 'datetime_year', 'outcome_age_(years)']]\n",
    "input_x_cat = dataset.drop(['outcome_type', 'datetime_month', 'datetime_year', 'outcome_age_(years)'], axis=1)"
   ]
  },
  {
   "cell_type": "code",
   "execution_count": 120,
   "metadata": {},
   "outputs": [
    {
     "name": "stdout",
     "output_type": "stream",
     "text": [
      "Adoption           33112\n",
      "Transfer           23499\n",
      "Return to Owner    14354\n",
      "Euthanasia          6080\n",
      "Died                 680\n",
      "other                531\n",
      "Name: outcome_type, dtype: int64\n"
     ]
    }
   ],
   "source": [
    "from sklearn.preprocessing import LabelEncoder\n",
    "\n",
    "le=LabelEncoder()\n",
    "targets=output_y\n",
    "print(targets.value_counts())\n",
    "Y=le.fit_transform(targets)"
   ]
  },
  {
   "cell_type": "code",
   "execution_count": 149,
   "metadata": {},
   "outputs": [],
   "source": [
    "from sklearn.preprocessing import OneHotEncoder\n",
    "\n",
    "OH_X = input_x_cat.apply(LabelEncoder().fit_transform)"
   ]
  },
  {
   "cell_type": "code",
   "execution_count": 151,
   "metadata": {},
   "outputs": [],
   "source": [
    "input_x = pd.concat([input_x_digit, OH_X], axis=1)"
   ]
  },
  {
   "cell_type": "code",
   "execution_count": 153,
   "metadata": {},
   "outputs": [],
   "source": [
    "from sklearn.model_selection import train_test_split\n",
    "\n",
    "X_train_22, X_test_22, y_train_22, y_test_22 = train_test_split(input_x, Y, test_size=0.3)"
   ]
  },
  {
   "cell_type": "code",
   "execution_count": 154,
   "metadata": {},
   "outputs": [
    {
     "data": {
      "text/plain": [
       "RandomForestClassifier(bootstrap=True, ccp_alpha=0.0, class_weight=None,\n",
       "                       criterion='gini', max_depth=None, max_features='auto',\n",
       "                       max_leaf_nodes=None, max_samples=None,\n",
       "                       min_impurity_decrease=0.0, min_impurity_split=None,\n",
       "                       min_samples_leaf=1, min_samples_split=2,\n",
       "                       min_weight_fraction_leaf=0.0, n_estimators=100,\n",
       "                       n_jobs=None, oob_score=False, random_state=None,\n",
       "                       verbose=0, warm_start=False)"
      ]
     },
     "execution_count": 154,
     "metadata": {},
     "output_type": "execute_result"
    }
   ],
   "source": [
    "model=RandomForestClassifier(n_estimators=100)\n",
    "\n",
    "model.fit(X_train_22,y_train_22)"
   ]
  },
  {
   "cell_type": "code",
   "execution_count": 155,
   "metadata": {},
   "outputs": [
    {
     "name": "stderr",
     "output_type": "stream",
     "text": [
      "No handles with labels found to put in legend.\n"
     ]
    },
    {
     "data": {
      "image/png": "[encoded data removed]",
      "text/plain": [
       "<Figure size 432x432 with 1 Axes>"
      ]
     },
     "metadata": {
      "needs_background": "light"
     },
     "output_type": "display_data"
    }
   ],
   "source": [
    "headers = list(X_train_22.columns.values)\n",
    "\n",
    "feature_imp = pd.Series(model.feature_importances_,index=headers).sort_values(ascending=False)\n",
    "\n",
    "f, ax = plt.subplots(figsize=(6, 6))\n",
    "sns.barplot(x=feature_imp, y=feature_imp.index)\n",
    "\n",
    "plt.xlabel('Важность атрибутов')\n",
    "plt.ylabel('Атрибуты')\n",
    "plt.title(\"Наиболее важные атрибуты\")\n",
    "plt.show()"
   ]
  },
  {
   "cell_type": "markdown",
   "metadata": {},
   "source": [
    "Есть большой вопрос о необходимости включения признака outcome_subtype в модель. Точнее известен ли этот признак нам заранее или выясняется в момент выуска животного."
   ]
  },
  {
   "cell_type": "code",
   "execution_count": 157,
   "metadata": {},
   "outputs": [
    {
     "data": {
      "text/plain": [
       "array([[0.08, 0.  , 0.  , 0.  , 0.92, 0.  ],\n",
       "       [0.  , 0.01, 0.02, 0.  , 0.97, 0.  ],\n",
       "       [0.62, 0.  , 0.  , 0.38, 0.  , 0.  ],\n",
       "       ...,\n",
       "       [0.  , 0.  , 0.  , 0.  , 1.  , 0.  ],\n",
       "       [0.99, 0.  , 0.  , 0.01, 0.  , 0.  ],\n",
       "       [0.14, 0.  , 0.  , 0.86, 0.  , 0.  ]])"
      ]
     },
     "execution_count": 157,
     "metadata": {},
     "output_type": "execute_result"
    }
   ],
   "source": [
    "model.predict_proba(X_test_22)"
   ]
  }
 ],
 "metadata": {
  "kernelspec": {
   "display_name": "Python 3",
   "language": "python",
   "name": "python3"
  },
  "language_info": {
   "codemirror_mode": {
    "name": "ipython",
    "version": 3
   },
   "file_extension": ".py",
   "mimetype": "text/x-python",
   "name": "python",
   "nbconvert_exporter": "python",
   "pygments_lexer": "ipython3",
   "version": "3.8.2"
  }
 },
 "nbformat": 4,
 "nbformat_minor": 4
}
